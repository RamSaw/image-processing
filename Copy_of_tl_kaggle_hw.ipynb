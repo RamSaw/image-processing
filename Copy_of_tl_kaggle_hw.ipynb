{
  "nbformat": 4,
  "nbformat_minor": 0,
  "metadata": {
    "colab": {
      "name": "Copy of tl-kaggle-hw.ipynb",
      "provenance": [],
      "collapsed_sections": [],
      "toc_visible": true,
      "include_colab_link": true
    },
    "kernelspec": {
      "name": "python3",
      "display_name": "Python 3"
    },
    "accelerator": "GPU"
  },
  "cells": [
    {
      "cell_type": "markdown",
      "metadata": {
        "id": "view-in-github",
        "colab_type": "text"
      },
      "source": [
        "<a href=\"https://colab.research.google.com/github/RamSaw/image-processing/blob/master/Copy_of_tl_kaggle_hw.ipynb\" target=\"_parent\"><img src=\"https://colab.research.google.com/assets/colab-badge.svg\" alt=\"Open In Colab\"/></a>"
      ]
    },
    {
      "cell_type": "markdown",
      "metadata": {
        "id": "c1UGABwrOif2",
        "colab_type": "text"
      },
      "source": [
        "Классифицируйте dataset с фотографиями дорожных знаков и побейте sample submission в данном соревновании:\n",
        "\n",
        "https://www.kaggle.com/t/74697eb4f6a3453b9143788e6d5e3de1\n",
        "\n",
        "Все данные и необходимая разметка лежит по ссылке во вкладке Data.\n",
        "\n",
        "Задачу надо решить двумя способами, с помощью классического компьютерного зрения и с помощью нейронных сетей. Ваши сабмишшены должны иметь суффикс _classic.csv и _neural.csv\n",
        "\n",
        "За каждый пункт вы получите от 5ти до 15ти баллов, на результат влияет не только ваш кэггловский скор, но и код и само решение. Код необходимо приложить до дедлайна.\n",
        "\n",
        "Задание присылать на обе почты почты aleksartamonov@gmail.com dashkov.alexander.om@gmail.com в виде ссылки на colab\n",
        "\n",
        "В теме письма указать HSE2020 HW3 <Фамилия Имя>\n",
        "\n",
        "soft deadline: 23.02.2020T23:59:00+0300\n",
        "\n",
        "hard deadline: 01.03.2020T23:59:00+0300"
      ]
    },
    {
      "cell_type": "code",
      "metadata": {
        "id": "fJdLErF0gbmW",
        "colab_type": "code",
        "colab": {}
      },
      "source": [
        "import numpy as np\n",
        "import torch\n",
        "import random\n",
        "import os\n",
        "import pandas as pd\n",
        "import cv2\n",
        "import matplotlib.pylab as plt\n",
        "%matplotlib inline\n",
        "plt.style.use('default')"
      ],
      "execution_count": 0,
      "outputs": []
    },
    {
      "cell_type": "code",
      "metadata": {
        "id": "wNTVoU9PgVZn",
        "colab_type": "code",
        "outputId": "da8d7f17-eef7-46f3-eeda-7e1f321c11de",
        "colab": {
          "base_uri": "https://localhost:8080/",
          "height": 34
        }
      },
      "source": [
        "def make_reproducible(seed, make_cuda_reproducible):\n",
        "    random.seed(seed)\n",
        "    os.environ['PYTHONHASHSEED'] = str(seed)\n",
        "    np.random.seed(seed)\n",
        "    torch.manual_seed(seed)\n",
        "    if make_cuda_reproducible:\n",
        "        torch.backends.cudnn.deterministic = True\n",
        "        torch.backends.cudnn.benchmark = False\n",
        "\n",
        "SEED = 2341\n",
        "make_reproducible(SEED, False)\n",
        "DEVICE = torch.device('cuda' if torch.cuda.is_available() else 'cpu')\n",
        "print(DEVICE)"
      ],
      "execution_count": 2,
      "outputs": [
        {
          "output_type": "stream",
          "text": [
            "cuda\n"
          ],
          "name": "stdout"
        }
      ]
    },
    {
      "cell_type": "markdown",
      "metadata": {
        "id": "FdFNA1npgChA",
        "colab_type": "text"
      },
      "source": [
        "Давайте для начала загрузим тренировочные данные"
      ]
    },
    {
      "cell_type": "code",
      "metadata": {
        "id": "VEergKnKgG43",
        "colab_type": "code",
        "outputId": "e44c19e1-f901-4bb4-c76b-4fd851f69345",
        "colab": {
          "base_uri": "https://localhost:8080/",
          "height": 34
        }
      },
      "source": [
        "from google.colab import drive\n",
        "drive.mount('./gdrive')"
      ],
      "execution_count": 3,
      "outputs": [
        {
          "output_type": "stream",
          "text": [
            "Drive already mounted at ./gdrive; to attempt to forcibly remount, call drive.mount(\"./gdrive\", force_remount=True).\n"
          ],
          "name": "stdout"
        }
      ]
    },
    {
      "cell_type": "code",
      "metadata": {
        "id": "0PqWfyUUrOup",
        "colab_type": "code",
        "colab": {}
      },
      "source": [
        "DRIVE_DATA_ROOT = './gdrive/My Drive/cv2_data'"
      ],
      "execution_count": 0,
      "outputs": []
    },
    {
      "cell_type": "code",
      "metadata": {
        "id": "1Z1_Q9HcX9HA",
        "colab_type": "code",
        "colab": {}
      },
      "source": [
        "def show_rgb(img, size=3):\n",
        "    plt.figure(figsize=(size,size))\n",
        "    ax = plt.axes([0,0,1,1], frameon=False)\n",
        "    ax.set_axis_off()\n",
        "    plt.imshow(img)"
      ],
      "execution_count": 0,
      "outputs": []
    },
    {
      "cell_type": "code",
      "metadata": {
        "id": "-ToR1-edguew",
        "colab_type": "code",
        "colab": {}
      },
      "source": [
        "def load_data():\n",
        "  import zipfile\n",
        "\n",
        "  train_X = []\n",
        "  train_Y = []\n",
        "  train_filenames = []\n",
        "  test_X = []\n",
        "  test_filenames = []\n",
        "  print('Loading data...')\n",
        "  with zipfile.ZipFile(DRIVE_DATA_ROOT + '/data.zip', 'r') as zip_file:\n",
        "    for filename in zip_file.namelist():\n",
        "      if filename[-4:] == '.png':\n",
        "        filename_to_save = filename.split('/')[-1]\n",
        "        data = zip_file.read(filename)\n",
        "        img = cv2.imdecode(np.frombuffer(data, np.uint8), cv2.IMREAD_COLOR) \n",
        "        img = cv2.cvtColor(img, cv2.COLOR_BGR2RGB)\n",
        "        if filename.startswith('test'):\n",
        "          test_X.append(img)\n",
        "          test_filenames.append(filename_to_save)\n",
        "        else:\n",
        "          train_X.append(img)\n",
        "          train_filenames.append(filename_to_save)\n",
        "    train_csv_data = pd.read_csv(DRIVE_DATA_ROOT + '/train.csv')\n",
        "    filename_to_class = {filename: cls for filename, cls in zip(train_csv_data['filename'], train_csv_data['class_number'])}\n",
        "    train_Y = [filename_to_class[filename] for filename in train_filenames]\n",
        "  return np.array(train_X), np.array(train_Y), train_filenames, np.array(test_X), test_filenames"
      ],
      "execution_count": 0,
      "outputs": []
    },
    {
      "cell_type": "code",
      "metadata": {
        "id": "3kjJ8JYJmYr4",
        "colab_type": "code",
        "outputId": "584a7c9c-6d41-451d-d072-4fe4873e0791",
        "colab": {
          "base_uri": "https://localhost:8080/",
          "height": 34
        }
      },
      "source": [
        "X, Y, FILENAMES, TEST_X, TEST_FILENAMES = load_data()"
      ],
      "execution_count": 7,
      "outputs": [
        {
          "output_type": "stream",
          "text": [
            "Loading data...\n"
          ],
          "name": "stdout"
        }
      ]
    },
    {
      "cell_type": "code",
      "metadata": {
        "id": "D3aQPXCHX5u8",
        "colab_type": "code",
        "outputId": "77fe6b5a-0f56-499d-9756-16967f00d2c5",
        "colab": {
          "base_uri": "https://localhost:8080/",
          "height": 372
        }
      },
      "source": [
        "print(f'Y 20: {Y[20]}')\n",
        "print(f'filename 20: {FILENAMES[20]}')\n",
        "show_rgb(X[20])"
      ],
      "execution_count": 8,
      "outputs": [
        {
          "output_type": "stream",
          "text": [
            "Y 20: 60\n",
            "filename 20: 000600.png\n"
          ],
          "name": "stdout"
        },
        {
          "output_type": "display_data",
          "data": {
            "image/png": "[encoded data removed]",
            "text/plain": [
              "<Figure size 300x300 with 1 Axes>"
            ]
          },
          "metadata": {
            "tags": []
          }
        }
      ]
    },
    {
      "cell_type": "code",
      "metadata": {
        "id": "No69qpWDxQuB",
        "colab_type": "code",
        "colab": {}
      },
      "source": [
        "from sklearn.model_selection import train_test_split\n",
        "TRAIN_X, VAL_X, TRAIN_Y, VAL_Y = train_test_split(X, Y, test_size=0.3, random_state=SEED)"
      ],
      "execution_count": 0,
      "outputs": []
    },
    {
      "cell_type": "code",
      "metadata": {
        "id": "UAHBPjUemdbT",
        "colab_type": "code",
        "outputId": "993b587a-5459-48a3-c7d0-5d243394efa7",
        "colab": {
          "base_uri": "https://localhost:8080/",
          "height": 121
        }
      },
      "source": [
        "print(f'TRAIN_X: {TRAIN_X.shape}')\n",
        "print(f'TRAIN_Y: {TRAIN_Y.shape}')\n",
        "print(f'VAL_X: {VAL_X.shape}')\n",
        "print(f'VAL_Y: {VAL_Y.shape}')\n",
        "print(f'TEST_X: {TEST_X.shape}')\n",
        "print(f'Classes from {TRAIN_Y.min()} to {TRAIN_Y.max()}')"
      ],
      "execution_count": 10,
      "outputs": [
        {
          "output_type": "stream",
          "text": [
            "TRAIN_X: (17802, 48, 48, 3)\n",
            "TRAIN_Y: (17802,)\n",
            "VAL_X: (7630, 48, 48, 3)\n",
            "VAL_Y: (7630,)\n",
            "TEST_X: (7551, 48, 48, 3)\n",
            "Classes from 0 to 66\n"
          ],
          "name": "stdout"
        }
      ]
    },
    {
      "cell_type": "code",
      "metadata": {
        "id": "QqNdqPMGqJz4",
        "colab_type": "code",
        "outputId": "d2ed44f7-04dd-4487-8603-8a7c8dd35f1f",
        "colab": {
          "base_uri": "https://localhost:8080/",
          "height": 354
        }
      },
      "source": [
        "print(f'TRAIN_Y 20: {TRAIN_Y[20]}')\n",
        "show_rgb(TRAIN_X[20])"
      ],
      "execution_count": 11,
      "outputs": [
        {
          "output_type": "stream",
          "text": [
            "TRAIN_Y 20: 27\n"
          ],
          "name": "stdout"
        },
        {
          "output_type": "display_data",
          "data": {
            "image/png": "[encoded data removed]",
            "text/plain": [
              "<Figure size 300x300 with 1 Axes>"
            ]
          },
          "metadata": {
            "tags": []
          }
        }
      ]
    },
    {
      "cell_type": "code",
      "metadata": {
        "id": "2vOGgLcCxzle",
        "colab_type": "code",
        "outputId": "e4ea48f0-65b2-4a5e-bd9b-469907c40a87",
        "colab": {
          "base_uri": "https://localhost:8080/",
          "height": 354
        }
      },
      "source": [
        "print(f'VAL_Y 20: {VAL_Y[20]}')\n",
        "show_rgb(VAL_X[20])"
      ],
      "execution_count": 12,
      "outputs": [
        {
          "output_type": "stream",
          "text": [
            "VAL_Y 20: 38\n"
          ],
          "name": "stdout"
        },
        {
          "output_type": "display_data",
          "data": {
            "image/png": "[encoded data removed]",
            "text/plain": [
              "<Figure size 300x300 with 1 Axes>"
            ]
          },
          "metadata": {
            "tags": []
          }
        }
      ]
    },
    {
      "cell_type": "code",
      "metadata": {
        "id": "xEKXDXieqPNA",
        "colab_type": "code",
        "outputId": "97fb9d7f-fceb-4f06-efb8-b4cbd89f0b0e",
        "colab": {
          "base_uri": "https://localhost:8080/",
          "height": 354
        }
      },
      "source": [
        "print(f'TEST 20: {TEST_FILENAMES[20]}')\n",
        "show_rgb(TEST_X[20])"
      ],
      "execution_count": 13,
      "outputs": [
        {
          "output_type": "stream",
          "text": [
            "TEST 20: 000122.png\n"
          ],
          "name": "stdout"
        },
        {
          "output_type": "display_data",
          "data": {
            "image/png": "[encoded data removed]",
            "text/plain": [
              "<Figure size 300x300 with 1 Axes>"
            ]
          },
          "metadata": {
            "tags": []
          }
        }
      ]
    },
    {
      "cell_type": "markdown",
      "metadata": {
        "id": "L_Nkm0h_qgEx",
        "colab_type": "text"
      },
      "source": [
        "Данные успешно загружены. Теперь давайте научимся генерить ответ на тест."
      ]
    },
    {
      "cell_type": "code",
      "metadata": {
        "id": "KSYKHMdNql-n",
        "colab_type": "code",
        "colab": {}
      },
      "source": [
        "def generate_test_Y(model, is_neural):\n",
        "  suffix = '_neural.csv' if is_neural else '_classic.csv'\n",
        "  filename = 'submission' + suffix\n",
        "  path = DRIVE_DATA_ROOT + '/' + filename\n",
        "  test_Y = model.predict(TEST_X)\n",
        "  pd.DataFrame({'filename': TEST_FILENAMES, 'class_number': test_Y}).to_csv(path, index=False)"
      ],
      "execution_count": 0,
      "outputs": []
    },
    {
      "cell_type": "code",
      "metadata": {
        "id": "e2Vnna32sNgX",
        "colab_type": "code",
        "colab": {}
      },
      "source": [
        "class TestModel:\n",
        "  def predict(self, test_X):\n",
        "    return np.zeros(test_X.shape[0])"
      ],
      "execution_count": 0,
      "outputs": []
    },
    {
      "cell_type": "code",
      "metadata": {
        "id": "c2OB8TUOsQ76",
        "colab_type": "code",
        "colab": {}
      },
      "source": [
        "generate_test_Y(TestModel(), is_neural=True)"
      ],
      "execution_count": 0,
      "outputs": []
    },
    {
      "cell_type": "code",
      "metadata": {
        "id": "CsH022vStWVI",
        "colab_type": "code",
        "colab": {}
      },
      "source": [
        "generate_test_Y(TestModel(), is_neural=False)"
      ],
      "execution_count": 0,
      "outputs": []
    },
    {
      "cell_type": "markdown",
      "metadata": {
        "id": "gYyQ_PrudIoN",
        "colab_type": "text"
      },
      "source": [
        "# Classic Machine Learning Solution"
      ]
    },
    {
      "cell_type": "code",
      "metadata": {
        "id": "U6pTe_l0zhvc",
        "colab_type": "code",
        "colab": {}
      },
      "source": [
        "def create_hog(winSize = (20,20),\n",
        "               blockSize = (10,10),\n",
        "               blockStride = (5,5),\n",
        "               cellSize = (10,10),\n",
        "               nbins = 9):\n",
        "  derivAperture = 1\n",
        "  winSigma = -1.\n",
        "  histogramNormType = 0\n",
        "  L2HysThreshold = 0.2\n",
        "  gammaCorrection = 1\n",
        "  nlevels = 64\n",
        "  signedGradients = True\n",
        "\n",
        "  hog = cv2.HOGDescriptor(winSize,blockSize,blockStride,cellSize,nbins,derivAperture,winSigma,histogramNormType,L2HysThreshold,gammaCorrection,nlevels,signedGradients)\n",
        "  return hog"
      ],
      "execution_count": 0,
      "outputs": []
    },
    {
      "cell_type": "code",
      "metadata": {
        "id": "Y21aCUPD05BM",
        "colab_type": "code",
        "outputId": "909dc656-9f0c-42df-9242-a10ea6a63389",
        "colab": {
          "base_uri": "https://localhost:8080/",
          "height": 34
        }
      },
      "source": [
        "create_hog().compute(TRAIN_X[20]).shape"
      ],
      "execution_count": 0,
      "outputs": [
        {
          "output_type": "execute_result",
          "data": {
            "text/plain": [
              "(729, 1)"
            ]
          },
          "metadata": {
            "tags": []
          },
          "execution_count": 67
        }
      ]
    },
    {
      "cell_type": "code",
      "metadata": {
        "id": "f4wqHLkZt59O",
        "colab_type": "code",
        "colab": {}
      },
      "source": [
        "class ClassicModel:\n",
        "  def __init__(self, winSize, blockSize, blockStride, cellSize, nbins, degree):\n",
        "    from sklearn import svm\n",
        "    self.hog = create_hog(winSize, blockSize, blockStride, cellSize, nbins)\n",
        "    self.svm = svm.SVC(decision_function_shape='ovr', kernel='poly', degree=degree)\n",
        "  \n",
        "  def extract_features(self, X):\n",
        "    hog_X = []\n",
        "    for i in range(len(X)):\n",
        "      hog_X.append(self.hog.compute(X[i]).reshape(-1))\n",
        "    return np.array(hog_X)\n",
        "\n",
        "  def fit(self, X, y):\n",
        "    X = self.extract_features(X)\n",
        "    self.svm.fit(X, y)\n",
        "  \n",
        "  def predict(self, X):\n",
        "    X = self.extract_features(X)\n",
        "    return self.svm.predict(X)\n",
        "  \n",
        "  def accuracy(self, X, y):\n",
        "    return (self.predict(X) == y).sum() / len(y)"
      ],
      "execution_count": 0,
      "outputs": []
    },
    {
      "cell_type": "code",
      "metadata": {
        "id": "-fkNhvYc3aBl",
        "colab_type": "code",
        "colab": {}
      },
      "source": [
        "CLASSIC_MODEL_1 = ClassicModel(winSize=(20,20), blockSize=(10,10), blockStride=(5,5), cellSize=(10,10), nbins=9, degree=4)"
      ],
      "execution_count": 0,
      "outputs": []
    },
    {
      "cell_type": "code",
      "metadata": {
        "id": "esPK1_yR3tUf",
        "colab_type": "code",
        "colab": {}
      },
      "source": [
        "CLASSIC_MODEL_1.fit(TRAIN_X, TRAIN_Y)"
      ],
      "execution_count": 0,
      "outputs": []
    },
    {
      "cell_type": "code",
      "metadata": {
        "id": "aobs9sG-7UYe",
        "colab_type": "code",
        "outputId": "59599093-992b-448f-ff16-653c7a4c1dfd",
        "colab": {
          "base_uri": "https://localhost:8080/",
          "height": 34
        }
      },
      "source": [
        "print(f'Train acc: {CLASSIC_MODEL_1.accuracy(TRAIN_X, TRAIN_Y)}')"
      ],
      "execution_count": 0,
      "outputs": [
        {
          "output_type": "stream",
          "text": [
            "Train acc: 1.0\n"
          ],
          "name": "stdout"
        }
      ]
    },
    {
      "cell_type": "code",
      "metadata": {
        "id": "EhMKKJPY_nTK",
        "colab_type": "code",
        "outputId": "4944a371-cf4d-4580-a056-b081347024c5",
        "colab": {
          "base_uri": "https://localhost:8080/",
          "height": 34
        }
      },
      "source": [
        "print(f'Val acc: {CLASSIC_MODEL_1.accuracy(VAL_X, VAL_Y)}')"
      ],
      "execution_count": 0,
      "outputs": [
        {
          "output_type": "stream",
          "text": [
            "Val acc: 0.9722149410222805\n"
          ],
          "name": "stdout"
        }
      ]
    },
    {
      "cell_type": "code",
      "metadata": {
        "id": "265CEAs0a-et",
        "colab_type": "code",
        "colab": {}
      },
      "source": [
        "generate_test_Y(CLASSIC_MODEL_1, is_neural=False)"
      ],
      "execution_count": 0,
      "outputs": []
    },
    {
      "cell_type": "markdown",
      "metadata": {
        "id": "pzNWCgPmc3R1",
        "colab_type": "text"
      },
      "source": [
        "На kaggle эта модель получила score = 0.88520."
      ]
    },
    {
      "cell_type": "markdown",
      "metadata": {
        "id": "1zSp1o33dBgA",
        "colab_type": "text"
      },
      "source": [
        "# Deep Learning Solution"
      ]
    },
    {
      "cell_type": "code",
      "metadata": {
        "id": "PScyckvOO9xq",
        "colab_type": "code",
        "colab": {}
      },
      "source": [
        "from torchvision import datasets, models, transforms\n",
        "import torch.utils.data as data\n",
        "import torch.nn as nn\n",
        "import torch.optim as optim\n",
        "from torch.optim import lr_scheduler\n",
        "import copy"
      ],
      "execution_count": 0,
      "outputs": []
    },
    {
      "cell_type": "markdown",
      "metadata": {
        "id": "e9AG4iFnIYfY",
        "colab_type": "text"
      },
      "source": [
        "We will finetune ResNet18 from Pytorch hub."
      ]
    },
    {
      "cell_type": "code",
      "metadata": {
        "id": "Uvm3uq9PJGny",
        "colab_type": "code",
        "colab": {}
      },
      "source": [
        "NUM_CLASSES = Y.max() + 1"
      ],
      "execution_count": 0,
      "outputs": []
    },
    {
      "cell_type": "code",
      "metadata": {
        "id": "x5qZjXsCPg22",
        "colab_type": "code",
        "outputId": "79e741ba-2b63-4a4d-f5cf-4be953e5360e",
        "colab": {
          "base_uri": "https://localhost:8080/",
          "height": 34
        }
      },
      "source": [
        "print(f'Number of classes: {NUM_CLASSES}')"
      ],
      "execution_count": 20,
      "outputs": [
        {
          "output_type": "stream",
          "text": [
            "Number of classes: 67\n"
          ],
          "name": "stdout"
        }
      ]
    },
    {
      "cell_type": "code",
      "metadata": {
        "id": "ZuFgOPSyOWd7",
        "colab_type": "code",
        "colab": {}
      },
      "source": [
        "class TrafficSignsDataset(data.Dataset):\n",
        "    def __init__(self, X, y, transform):\n",
        "        self.X = X\n",
        "        self.y = y\n",
        "        self.transform = transform\n",
        "        \n",
        "    def __getitem__(self, i):\n",
        "        return self.transform(self.X[i]), torch.LongTensor([self.y[i]])\n",
        "    \n",
        "    def __len__(self):\n",
        "        return len(self.y)"
      ],
      "execution_count": 0,
      "outputs": []
    },
    {
      "cell_type": "code",
      "metadata": {
        "id": "XcdOsfyNIe2V",
        "colab_type": "code",
        "colab": {}
      },
      "source": [
        "class NeuralModel:\n",
        "  def __init__(self, num_classes, resnet_type, use_pretrained, freeze_weights, batch_size, lr, epochs):\n",
        "    self.model = None\n",
        "    if resnet_type == 'resnet18':\n",
        "      self.model = models.resnet18(pretrained=use_pretrained)\n",
        "    if freeze_weights:\n",
        "      for param in self.model.parameters():\n",
        "          param.requires_grad = False\n",
        "    self.model.fc = nn.Linear(self.model.fc.in_features, num_classes)\n",
        "    self.model.to(DEVICE)\n",
        "    self.criterion = nn.CrossEntropyLoss()\n",
        "    self.optimizer = optim.Adam(self.model.parameters(), lr=lr)\n",
        "    self.data_transform = transforms.Compose([\n",
        "        transforms.ToPILImage(),\n",
        "        transforms.Resize(\n",
        "            size=(224, 224)\n",
        "        ),\n",
        "        transforms.ToTensor(),\n",
        "        transforms.Normalize(\n",
        "            mean=[0.485, 0.456, 0.406],\n",
        "            std=[0.229, 0.224, 0.225]\n",
        "        )\n",
        "    ])\n",
        "    self.batch_size = batch_size\n",
        "    self.epochs = epochs\n",
        "\n",
        "  def fit(self, train_X, train_Y, val_X, val_Y):\n",
        "    train_dataset = TrafficSignsDataset(train_X, train_Y, self.data_transform)\n",
        "    val_dataset = TrafficSignsDataset(val_X, val_Y, self.data_transform)\n",
        "    dataloaders = {\n",
        "        'train': data.DataLoader(train_dataset, batch_size=self.batch_size, shuffle=True, num_workers=4),\n",
        "        'val': data.DataLoader(val_dataset, batch_size=self.batch_size, shuffle=True, num_workers=4),\n",
        "    }\n",
        "    dataset_sizes = {'train': len(train_dataset), 'val': len(val_dataset)}\n",
        "    self.train(dataloaders, dataset_sizes)\n",
        "  \n",
        "  def train(self, dataloaders, dataset_sizes):\n",
        "    best_model_weights = copy.deepcopy(self.model.state_dict())\n",
        "    best_acc = 0.0\n",
        "\n",
        "    for epoch in range(1, self.epochs + 1):\n",
        "        print(f'Epoch {epoch} / {self.epochs}')\n",
        "        \n",
        "        for phase in ['train', 'val']:\n",
        "            if phase == 'train':\n",
        "                self.model.train()\n",
        "            else:\n",
        "                self.model.eval()\n",
        "\n",
        "            running_loss = 0.0\n",
        "            running_corrects = 0\n",
        "\n",
        "            for inputs, labels in dataloaders[phase]:\n",
        "                inputs = inputs.to(DEVICE)\n",
        "                labels = labels.squeeze(-1).to(DEVICE)\n",
        "\n",
        "                self.optimizer.zero_grad()\n",
        "\n",
        "                with torch.set_grad_enabled(phase == 'train'):\n",
        "                    outputs = self.model(inputs)\n",
        "                    _, preds = torch.max(outputs, 1)\n",
        "                    loss = self.criterion(outputs, labels)\n",
        "\n",
        "                    if phase == 'train':\n",
        "                        loss.backward()\n",
        "                        self.optimizer.step()\n",
        "\n",
        "                running_loss += loss.item() * inputs.size(0)\n",
        "                running_corrects += torch.sum(preds == labels.data)\n",
        "\n",
        "            epoch_loss = running_loss / dataset_sizes[phase]\n",
        "            epoch_acc = running_corrects.double().item() / dataset_sizes[phase]\n",
        "\n",
        "            print(f'{phase} Loss: {round(epoch_loss, 4)} Acc: {round(epoch_acc, 4)}')\n",
        "\n",
        "            if phase == 'val' and epoch_acc > best_acc:\n",
        "                best_acc = epoch_acc\n",
        "                best_model_weights = copy.deepcopy(self.model.state_dict())\n",
        "        print()\n",
        "\n",
        "    print(f'Best val Acc: {round(best_acc, 4)}'.format())\n",
        "\n",
        "    self.model.load_state_dict(best_model_weights)\n",
        "  \n",
        "  def predict(self, X):\n",
        "    dataset = TrafficSignsDataset(X, np.zeros(X.shape[0]), self.data_transform)\n",
        "    dataloader = data.DataLoader(dataset, batch_size=self.batch_size, shuffle=False, num_workers=4)\n",
        "    self.model.eval()\n",
        "    y = []\n",
        "    with torch.no_grad():\n",
        "      for inputs, _ in dataloader:\n",
        "          inputs = inputs.to(DEVICE)\n",
        "          outputs = self.model(inputs)\n",
        "          _, preds = torch.max(outputs, 1)\n",
        "          y += [preds[i].item() for i in range(len(preds))]\n",
        "    return np.array(y)\n",
        "  \n",
        "  def accuracy(self, X, y):\n",
        "    return (self.predict(X) == y).sum() / len(y)"
      ],
      "execution_count": 0,
      "outputs": []
    },
    {
      "cell_type": "code",
      "metadata": {
        "id": "-DHf9dFgYhTs",
        "colab_type": "code",
        "colab": {}
      },
      "source": [
        "def train_neural_model(model):\n",
        "  print(f'Initial train acc: {model.accuracy(TRAIN_X, TRAIN_Y)}')\n",
        "  print(f'Initial val acc: {model.accuracy(VAL_X, VAL_Y)}')\n",
        "  model.fit(TRAIN_X, TRAIN_Y, VAL_X, VAL_Y)"
      ],
      "execution_count": 0,
      "outputs": []
    },
    {
      "cell_type": "code",
      "metadata": {
        "id": "ReZsbBCcSRDG",
        "colab_type": "code",
        "colab": {}
      },
      "source": [
        "NEURAL_MODEL_1 = NeuralModel(NUM_CLASSES, 'resnet18', use_pretrained=True, freeze_weights=False, batch_size=128, lr=1e-3, epochs=25)"
      ],
      "execution_count": 0,
      "outputs": []
    },
    {
      "cell_type": "code",
      "metadata": {
        "id": "1iqikhCaZGkC",
        "colab_type": "code",
        "outputId": "53de7236-0ef3-4a24-9af8-506a602958b0",
        "colab": {
          "base_uri": "https://localhost:8080/",
          "height": 1000
        }
      },
      "source": [
        "train_neural_model(NEURAL_MODEL_1)"
      ],
      "execution_count": 31,
      "outputs": [
        {
          "output_type": "stream",
          "text": [
            "Initial train acc: 0.01876193686102685\n",
            "Initial val acc: 0.0163826998689384\n",
            "Epoch 1 / 25\n",
            "train Loss: 0.426 Acc: 0.8991\n",
            "val Loss: 0.1697 Acc: 0.9545\n",
            "\n",
            "Epoch 2 / 25\n",
            "train Loss: 0.0829 Acc: 0.9774\n",
            "val Loss: 0.0938 Acc: 0.9761\n",
            "\n",
            "Epoch 3 / 25\n",
            "train Loss: 0.0471 Acc: 0.9875\n",
            "val Loss: 0.1426 Acc: 0.9596\n",
            "\n",
            "Epoch 4 / 25\n",
            "train Loss: 0.0493 Acc: 0.9867\n",
            "val Loss: 0.0696 Acc: 0.981\n",
            "\n",
            "Epoch 5 / 25\n",
            "train Loss: 0.0319 Acc: 0.9922\n",
            "val Loss: 0.0546 Acc: 0.9858\n",
            "\n",
            "Epoch 6 / 25\n",
            "train Loss: 0.0195 Acc: 0.9949\n",
            "val Loss: 0.0488 Acc: 0.9875\n",
            "\n",
            "Epoch 7 / 25\n",
            "train Loss: 0.0242 Acc: 0.9942\n",
            "val Loss: 0.0401 Acc: 0.9899\n",
            "\n",
            "Epoch 8 / 25\n",
            "train Loss: 0.0098 Acc: 0.9978\n",
            "val Loss: 0.0624 Acc: 0.983\n",
            "\n",
            "Epoch 9 / 25\n",
            "train Loss: 0.0065 Acc: 0.9984\n",
            "val Loss: 0.0476 Acc: 0.9877\n",
            "\n",
            "Epoch 10 / 25\n",
            "train Loss: 0.0099 Acc: 0.9976\n",
            "val Loss: 0.0611 Acc: 0.9845\n",
            "\n",
            "Epoch 11 / 25\n",
            "train Loss: 0.0331 Acc: 0.9918\n",
            "val Loss: 0.112 Acc: 0.972\n",
            "\n",
            "Epoch 12 / 25\n",
            "train Loss: 0.0236 Acc: 0.9934\n",
            "val Loss: 0.0827 Acc: 0.9786\n",
            "\n",
            "Epoch 13 / 25\n",
            "train Loss: 0.0122 Acc: 0.997\n",
            "val Loss: 0.0455 Acc: 0.9882\n",
            "\n",
            "Epoch 14 / 25\n",
            "train Loss: 0.0095 Acc: 0.9974\n",
            "val Loss: 0.0764 Acc: 0.9817\n",
            "\n",
            "Epoch 15 / 25\n",
            "train Loss: 0.0078 Acc: 0.9979\n",
            "val Loss: 0.0479 Acc: 0.989\n",
            "\n",
            "Epoch 16 / 25\n",
            "train Loss: 0.0144 Acc: 0.9958\n",
            "val Loss: 0.1225 Acc: 0.9705\n",
            "\n",
            "Epoch 17 / 25\n",
            "train Loss: 0.0141 Acc: 0.9969\n",
            "val Loss: 0.0772 Acc: 0.9798\n",
            "\n",
            "Epoch 18 / 25\n",
            "train Loss: 0.0279 Acc: 0.9928\n",
            "val Loss: 0.0469 Acc: 0.9902\n",
            "\n",
            "Epoch 19 / 25\n",
            "train Loss: 0.0016 Acc: 0.9996\n",
            "val Loss: 0.0399 Acc: 0.9911\n",
            "\n",
            "Epoch 20 / 25\n",
            "train Loss: 0.0007 Acc: 0.9998\n",
            "val Loss: 0.0381 Acc: 0.9929\n",
            "\n",
            "Epoch 21 / 25\n",
            "train Loss: 0.0001 Acc: 1.0\n",
            "val Loss: 0.0354 Acc: 0.9933\n",
            "\n",
            "Epoch 22 / 25\n",
            "train Loss: 0.0001 Acc: 1.0\n",
            "val Loss: 0.0361 Acc: 0.9932\n",
            "\n",
            "Epoch 23 / 25\n",
            "train Loss: 0.0001 Acc: 1.0\n",
            "val Loss: 0.0355 Acc: 0.9929\n",
            "\n",
            "Epoch 24 / 25\n",
            "train Loss: 0.0 Acc: 1.0\n",
            "val Loss: 0.036 Acc: 0.9933\n",
            "\n",
            "Epoch 25 / 25\n",
            "train Loss: 0.0 Acc: 1.0\n",
            "val Loss: 0.0365 Acc: 0.9929\n",
            "\n",
            "Best val Acc: 0.9933\n"
          ],
          "name": "stdout"
        }
      ]
    },
    {
      "cell_type": "code",
      "metadata": {
        "id": "D0AXRMXGYQD-",
        "colab_type": "code",
        "colab": {}
      },
      "source": [
        "generate_test_Y(NEURAL_MODEL_1, is_neural=True)"
      ],
      "execution_count": 0,
      "outputs": []
    },
    {
      "cell_type": "markdown",
      "metadata": {
        "id": "w19HG4qMjsly",
        "colab_type": "text"
      },
      "source": [
        "На kaggle эта модель получила score = 0.98057."
      ]
    },
    {
      "cell_type": "code",
      "metadata": {
        "id": "_UuhA2muj5Wr",
        "colab_type": "code",
        "colab": {}
      },
      "source": [
        ""
      ],
      "execution_count": 0,
      "outputs": []
    }
  ]
}